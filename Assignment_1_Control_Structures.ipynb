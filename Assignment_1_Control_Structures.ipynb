{
 "cells": [
  {
   "cell_type": "code",
   "execution_count": 1,
   "id": "0e8164f4-09c5-4b1b-bd24-230d6f25419c",
   "metadata": {},
   "outputs": [
    {
     "name": "stdout",
     "output_type": "stream",
     "text": [
      "Welcome to Assignment-1\n"
     ]
    }
   ],
   "source": [
    "print(\"Welcome to Assignment-1\")"
   ]
  },
  {
   "cell_type": "code",
   "execution_count": 3,
   "id": "866336be-7964-4f6b-9b92-b9f1919d11ee",
   "metadata": {},
   "outputs": [
    {
     "name": "stdout",
     "output_type": "stream",
     "text": [
      "Num1=  10\n",
      "Num2=  30\n",
      "Add=  40\n"
     ]
    }
   ],
   "source": [
    "Num1= 10\n",
    "Num2= 30\n",
    "\n",
    "print(\"Num1= \", Num1)\n",
    "print(\"Num2= \", Num2)\n",
    "print(\"Add= \",Num1+Num2)"
   ]
  },
  {
   "cell_type": "code",
   "execution_count": 1,
   "id": "9776f848-84ac-4b8e-9531-8f26f8c77dc0",
   "metadata": {},
   "outputs": [
    {
     "name": "stdin",
     "output_type": "stream",
     "text": [
      "Enter the BMI Index: 34\n"
     ]
    },
    {
     "name": "stdout",
     "output_type": "stream",
     "text": [
      "Obese Class 1\n"
     ]
    }
   ],
   "source": [
    "# Body Mass Index\n",
    "bmi_Index= float(input(\"Enter the BMI Index:\"))\n",
    "\n",
    "if(bmi_Index < 18.5):\n",
    "    print(\"Underweight\")\n",
    "elif(bmi_Index >= 18.5 and bmi_Index <= 24.9):\n",
    "    print(\"Normal range\")\n",
    "elif(bmi_Index >=25.0 and bmi_Index <= 29.9 ):\n",
    "    print(\"Overweight\")\n",
    "elif(bmi_Index >=30.0 and bmi_Index <= 34.9):\n",
    "    print(\"Obese Class 1\")\n",
    "elif(bmi_Index >=35.0 and bmi_Index <= 39.9):\n",
    "    print(\"Obese Class 2\")\n",
    "else:\n",
    "    print(\"Obese Class 3\")\n",
    "\n",
    "    "
   ]
  },
  {
   "cell_type": "code",
   "execution_count": null,
   "id": "afc20622-f7c5-4db6-bedb-52c8cfbc192f",
   "metadata": {},
   "outputs": [],
   "source": []
  }
 ],
 "metadata": {
  "kernelspec": {
   "display_name": "Python 3 (ipykernel)",
   "language": "python",
   "name": "python3"
  },
  "language_info": {
   "codemirror_mode": {
    "name": "ipython",
    "version": 3
   },
   "file_extension": ".py",
   "mimetype": "text/x-python",
   "name": "python",
   "nbconvert_exporter": "python",
   "pygments_lexer": "ipython3",
   "version": "3.12.4"
  }
 },
 "nbformat": 4,
 "nbformat_minor": 5
}
