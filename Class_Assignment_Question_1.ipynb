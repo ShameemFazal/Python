{
 "cells": [
  {
   "cell_type": "code",
   "execution_count": 39,
   "id": "d03817dc-53d8-4e65-bfab-8690419a35a1",
   "metadata": {},
   "outputs": [
    {
     "name": "stdout",
     "output_type": "stream",
     "text": [
      "Sub-fields in AI are:\n",
      "Machine Learning\n",
      "Neural Networks\n",
      "Vision\n",
      "Robotics\n",
      "Speech Processing\n",
      "Natural Language Processing\n"
     ]
    }
   ],
   "source": [
    "class SubfieldsInAI:\n",
    "        \n",
    "    def Subfields():\n",
    "        lists = [\"Machine Learning\",\"Neural Networks\",\"Vision\",\"Robotics\",\"Speech Processing\",\"Natural Language Processing\"]\n",
    "        print(\"Sub-fields in AI are:\")\n",
    "        for temp in lists:\n",
    "            print(temp)\n",
    "\n",
    "\n",
    "SubfieldsInAI.Subfields()"
   ]
  },
  {
   "cell_type": "code",
   "execution_count": 53,
   "id": "0a5aa837-90a5-424e-afd1-79df54a3be32",
   "metadata": {},
   "outputs": [
    {
     "name": "stdin",
     "output_type": "stream",
     "text": [
      "Enter a number: 52452\n"
     ]
    },
    {
     "name": "stdout",
     "output_type": "stream",
     "text": [
      "52452  is Even number\n"
     ]
    }
   ],
   "source": [
    "class OddEven:\n",
    "        \n",
    "    def OddEven():\n",
    "        number = int(input(\"Enter a number:\"))\n",
    "       \n",
    "        if(number%2 ==0):\n",
    "            print(number,\" is Even number\")\n",
    "        else:\n",
    "            print(number,\" is Odd number\") \n",
    "\n",
    "OddEven.OddEven()"
   ]
  },
  {
   "cell_type": "code",
   "execution_count": 55,
   "id": "a97a0d92-f2a5-4a99-8319-2e2242d339ca",
   "metadata": {},
   "outputs": [
    {
     "name": "stdin",
     "output_type": "stream",
     "text": [
      "Your Gender :  Male\n",
      "Your Age :  20\n"
     ]
    },
    {
     "name": "stdout",
     "output_type": "stream",
     "text": [
      "NOT ELIGIBLE\n"
     ]
    }
   ],
   "source": [
    "class ElegiblityForMarriage:\n",
    "\n",
    "    def Elegible():\n",
    "        gender = input(\"Your Gender : \") \n",
    "        age = int(input(\"Your Age : \"))\n",
    "        \n",
    "        if(gender ==\"Male\" and age <= 20):\n",
    "            print(\"NOT ELIGIBLE\")\n",
    "        elif (gender ==\"Male\" and age > 20):\n",
    "            print(\"ELIGIBLE\")\n",
    "        elif (gender==\"Female\" and age < 18):\n",
    "            print(\"NOT ELIGIBLE\")\n",
    "        else:\n",
    "            print(\"ELIGIBLE\")\n",
    "\n",
    "\n",
    "ElegiblityForMarriage.Elegible()"
   ]
  },
  {
   "cell_type": "code",
   "execution_count": null,
   "id": "9110831a-3d21-4cb6-89d0-ae52ec8faa2a",
   "metadata": {},
   "outputs": [],
   "source": []
  },
  {
   "cell_type": "code",
   "execution_count": 57,
   "id": "bdf8dc88-9414-4804-81b6-e0290dbfd97c",
   "metadata": {},
   "outputs": [
    {
     "name": "stdin",
     "output_type": "stream",
     "text": [
      "subject1 = 98\n",
      "subject2 = 87\n",
      "subject3 = 95\n",
      "subject4 = 95\n",
      "subject5 = 93\n"
     ]
    },
    {
     "name": "stdout",
     "output_type": "stream",
     "text": [
      "Total : 468\n",
      "Percentage : 93.6\n"
     ]
    }
   ],
   "source": [
    "class FindPercent:\n",
    "\n",
    "    def percentage():\n",
    "        subject1 = int(input(\"subject1 =\"))\n",
    "        subject2 = int(input(\"subject2 =\"))\n",
    "        subject3 = int(input(\"subject3 =\"))\n",
    "        subject4 = int(input(\"subject4 =\"))\n",
    "        subject5 = int(input(\"subject5 =\"))\n",
    "\n",
    "        total = subject1+subject2+subject3+subject4+subject5\n",
    "        print(\"Total :\",total)\n",
    "        print(\"Percentage :\",total/5)\n",
    "\n",
    "FindPercent.percentage()"
   ]
  },
  {
   "cell_type": "code",
   "execution_count": 59,
   "id": "5623a6d2-08e0-4a1c-9b35-b1aea9ef4796",
   "metadata": {},
   "outputs": [
    {
     "name": "stdin",
     "output_type": "stream",
     "text": [
      "Height : 32\n",
      "Breadth : 34\n"
     ]
    },
    {
     "name": "stdout",
     "output_type": "stream",
     "text": [
      "Area formula : (Height*Breadth)/2\n",
      "Area of Triangle: 544.0\n"
     ]
    },
    {
     "name": "stdin",
     "output_type": "stream",
     "text": [
      "Height1 : 2\n",
      "Height2 : 4\n",
      "Breadth : 4\n"
     ]
    },
    {
     "name": "stdout",
     "output_type": "stream",
     "text": [
      "Perimeter formula : Height1+Height2+Breadth\n",
      "Perimater of Triangle: 10\n"
     ]
    }
   ],
   "source": [
    "class triangle:\n",
    "\n",
    "    def triangle():\n",
    "        Height = int(input(\"Height :\"))\n",
    "        Breadth = int(input(\"Breadth :\"))\n",
    "        print(\"Area formula : (Height*Breadth)/2\")\n",
    "        print(\"Area of Triangle:\", (Height*Breadth)/2)\n",
    "        Height1 = int(input(\"Height1 :\"))\n",
    "        Height2 = int(input(\"Height2 :\"))\n",
    "        Breadth1 = int(input(\"Breadth :\"))\n",
    "        print(\"Perimeter formula : Height1+Height2+Breadth\")\n",
    "        print(\"Perimater of Triangle:\", Height1+Height2+Breadth1)\n",
    "\n",
    "triangle.triangle()   "
   ]
  },
  {
   "cell_type": "code",
   "execution_count": null,
   "id": "ca8336a2-e247-413e-ab9b-216b323c550b",
   "metadata": {},
   "outputs": [],
   "source": []
  }
 ],
 "metadata": {
  "kernelspec": {
   "display_name": "Python 3 (ipykernel)",
   "language": "python",
   "name": "python3"
  },
  "language_info": {
   "codemirror_mode": {
    "name": "ipython",
    "version": 3
   },
   "file_extension": ".py",
   "mimetype": "text/x-python",
   "name": "python",
   "nbconvert_exporter": "python",
   "pygments_lexer": "ipython3",
   "version": "3.12.4"
  }
 },
 "nbformat": 4,
 "nbformat_minor": 5
}
