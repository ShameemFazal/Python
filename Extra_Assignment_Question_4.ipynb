{
 "cells": [
  {
   "cell_type": "code",
   "execution_count": 29,
   "id": "2d2bab7d-e635-46d9-aa6f-108698f99950",
   "metadata": {},
   "outputs": [
    {
     "name": "stdout",
     "output_type": "stream",
     "text": [
      "Sub-fields in AI are:\n",
      "Machine Learning\n",
      "Neural Networks\n",
      "Vision\n",
      "Robotics\n",
      "Speech Processing\n",
      "Natural Language Processing\n"
     ]
    }
   ],
   "source": [
    "# Create a function, and list out the items in the list\n",
    "lists = [\"Machine Learning\",\"Neural Networks\",\"Vision\",\"Robotics\",\"Speech Processing\",\"Natural Language Processing\"]\n",
    "print(\"Sub-fields in AI are:\")\n",
    "\n",
    "def Subfields():\n",
    "    for temp in lists:\n",
    "        print(temp)\n",
    "        \n",
    "Subfields()"
   ]
  },
  {
   "cell_type": "code",
   "execution_count": 13,
   "id": "fbac6e4c-c5a7-4c83-9910-5948935c5774",
   "metadata": {},
   "outputs": [
    {
     "name": "stdin",
     "output_type": "stream",
     "text": [
      "Enter a number: 52452\n"
     ]
    },
    {
     "name": "stdout",
     "output_type": "stream",
     "text": [
      "52452  is Even number\n"
     ]
    }
   ],
   "source": [
    "# Create a function that checks whether the given number is Odd or Even\n",
    "number = int(input(\"Enter a number:\"))\n",
    "def OddEven():\n",
    "    if(number%2 ==0):\n",
    "        print(number,\" is Even number\")\n",
    "    else:\n",
    "        print(number,\" is Odd number\")\n",
    " \n",
    "OddEven()   "
   ]
  },
  {
   "cell_type": "code",
   "execution_count": 15,
   "id": "9b598c02-f765-45b8-b765-f8965ed9f979",
   "metadata": {},
   "outputs": [
    {
     "name": "stdin",
     "output_type": "stream",
     "text": [
      "Your Gender :  Male\n",
      "Your Age :  20\n"
     ]
    },
    {
     "name": "stdout",
     "output_type": "stream",
     "text": [
      "NOT ELIGIBLE\n"
     ]
    }
   ],
   "source": [
    "# Create a function that tells elegibility of marriage for male and female according to their age limit like 21 for male and 18 for female\n",
    "\n",
    "gender = input(\"Your Gender : \") \n",
    "age = int(input(\"Your Age : \"))\n",
    "\n",
    "def Elegible(gender,age):\n",
    "    if(gender ==\"Male\" and age <= 20):\n",
    "        print(\"NOT ELIGIBLE\")\n",
    "    elif (gender ==\"Male\" and age > 20):\n",
    "        print(\"ELIGIBLE\")\n",
    "    elif (gender==\"Female\" and age < 18):\n",
    "        print(\"NOT ELIGIBLE\")\n",
    "    else:\n",
    "        print(\"ELIGIBLE\")\n",
    "\n",
    "Elegible(gender,age)\n"
   ]
  },
  {
   "cell_type": "code",
   "execution_count": 27,
   "id": "b393d2a8-4426-4e86-920f-bb1391e60af5",
   "metadata": {},
   "outputs": [
    {
     "name": "stdin",
     "output_type": "stream",
     "text": [
      "subject1 = 98\n",
      "subject2 = 87\n",
      "subject3 = 95\n",
      "subject4 = 95\n",
      "subject5 = 93\n"
     ]
    },
    {
     "name": "stdout",
     "output_type": "stream",
     "text": [
      "Total : 468\n",
      "Percentage : 93.6\n"
     ]
    }
   ],
   "source": [
    "# calculate the percentage of your 10th mark\n",
    "subject1 = int(input(\"subject1 =\"))\n",
    "subject2 = int(input(\"subject2 =\"))\n",
    "subject3 = int(input(\"subject3 =\"))\n",
    "subject4 = int(input(\"subject4 =\"))\n",
    "subject5 = int(input(\"subject5 =\"))\n",
    "\n",
    "def percentage():\n",
    "    total = subject1+subject2+subject3+subject4+subject5\n",
    "    print(\"Total :\",total)\n",
    "    print(\"Percentage :\",total/5)\n",
    "    \n",
    "percentage()\n"
   ]
  },
  {
   "cell_type": "code",
   "execution_count": 11,
   "id": "f2d47342-1c73-43f5-b68d-612ed49302a8",
   "metadata": {},
   "outputs": [
    {
     "name": "stdin",
     "output_type": "stream",
     "text": [
      "Height : 32\n",
      "Breadth : 34\n"
     ]
    },
    {
     "name": "stdout",
     "output_type": "stream",
     "text": [
      "Area formula : (Height*Breadth)/2\n",
      "Area of Triangle: 544.0\n"
     ]
    },
    {
     "name": "stdin",
     "output_type": "stream",
     "text": [
      "Height1 : 2\n",
      "Height2 : 4\n",
      "Breadth : 4\n"
     ]
    },
    {
     "name": "stdout",
     "output_type": "stream",
     "text": [
      "Perimeter formula : Height1+Height2+Breadth\n",
      "Perimater of Triangle: 10\n"
     ]
    }
   ],
   "source": [
    "#print area and perimeter of triangle using class and functions\n",
    "\n",
    "def ATriangle():\n",
    "    Height = int(input(\"Height :\"))\n",
    "    Breadth = int(input(\"Breadth :\"))\n",
    "    print(\"Area formula : (Height*Breadth)/2\")\n",
    "    print(\"Area of Triangle:\", (Height*Breadth)/2)\n",
    "\n",
    "def Perimeter_Of_Triangle():\n",
    "    Height1 = int(input(\"Height1 :\"))\n",
    "    Height2 = int(input(\"Height2 :\"))\n",
    "    Breadth1 = int(input(\"Breadth :\"))\n",
    "    print(\"Perimeter formula : Height1+Height2+Breadth\")\n",
    "    print(\"Perimater of Triangle:\", Height1+Height2+Breadth1)\n",
    "\n",
    "ATriangle()\n",
    "Perimeter_Of_Triangle() "
   ]
  },
  {
   "cell_type": "code",
   "execution_count": null,
   "id": "93af128d-1752-46c6-9c6a-2a765fca683e",
   "metadata": {},
   "outputs": [],
   "source": []
  }
 ],
 "metadata": {
  "kernelspec": {
   "display_name": "Python 3 (ipykernel)",
   "language": "python",
   "name": "python3"
  },
  "language_info": {
   "codemirror_mode": {
    "name": "ipython",
    "version": 3
   },
   "file_extension": ".py",
   "mimetype": "text/x-python",
   "name": "python",
   "nbconvert_exporter": "python",
   "pygments_lexer": "ipython3",
   "version": "3.12.4"
  }
 },
 "nbformat": 4,
 "nbformat_minor": 5
}
